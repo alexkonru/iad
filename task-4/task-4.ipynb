{
 "cells": [
  {
   "cell_type": "markdown",
   "metadata": {},
   "source": [
    "Сделать POST запрос при помощи Python с модулем requests"
   ]
  },
  {
   "cell_type": "code",
   "execution_count": 2,
   "metadata": {},
   "outputs": [
    {
     "name": "stdout",
     "output_type": "stream",
     "text": [
      "<?xml version=\"1.0\" encoding=\"utf-8\"?>\n",
      "<soap:Envelope xmlns:soap=\"http://schemas.xmlsoap.org/soap/envelope/\">\n",
      "  <soap:Body>\n",
      "    <m:CountryIntPhoneCodeResponse xmlns:m=\"http://www.oorsprong.org/websamples.countryinfo\">\n",
      "      <m:CountryIntPhoneCodeResult>7</m:CountryIntPhoneCodeResult>\n",
      "    </m:CountryIntPhoneCodeResponse>\n",
      "  </soap:Body>\n",
      "</soap:Envelope>\n",
      "<Response [200]>\n"
     ]
    }
   ],
   "source": [
    "import requests\n",
    "# SOAP URL\n",
    "url = \"http://webservices.oorsprong.org/websamples.countryinfo/CountryInfoService.wso\"\n",
    "\n",
    "# headers\n",
    "headers = {\n",
    "    'Content-Type': 'text/xml; charset=utf-8'\n",
    "}\n",
    "# POST запрос\n",
    "response = requests.request(\"POST\", url, headers=headers, data=payload)\n",
    " \n",
    "# ответ\n",
    "print(response.text)\n",
    "print(response)\n"
   ]
  },
  {
   "cell_type": "markdown",
   "metadata": {},
   "source": [
    "Сделать запрос при помощи zeep"
   ]
  },
  {
   "cell_type": "code",
   "execution_count": 4,
   "metadata": {},
   "outputs": [
    {
     "name": "stdout",
     "output_type": "stream",
     "text": [
      "Телефонный код для страны RU - 7\n",
      "Телефонный код для страны US - 1\n",
      "1\n"
     ]
    }
   ],
   "source": [
    "import zeep\n",
    " \n",
    "# WSDL URL\n",
    "wsdl_url = \"http://webservices.oorsprong.org/websamples.countryinfo/CountryInfoService.wso?WSDL\"\n",
    " \n",
    "# URL метода\n",
    "method_url = \"http://webservices.oorsprong.org/websamples.countryinfo/CountryIntPhoneCode\"\n",
    " \n",
    "# URL сервиса\n",
    "service_url = \"http://webservices.oorsprong.org/websamples.countryinfo/CountryInfoService.wso\"\n",
    " \n",
    "# создание header element\n",
    "header = zeep.xsd.Element(\n",
    "    \"Header\",\n",
    "    zeep.xsd.ComplexType(\n",
    "        [\n",
    "            zeep.xsd.Element(\n",
    "                \"{http://www.w3.org/2005/08/addressing}Action\", zeep.xsd.String()\n",
    "            ),\n",
    "            zeep.xsd.Element(\n",
    "                \"{http://www.w3.org/2005/08/addressing}To\", zeep.xsd.String()\n",
    "            ),\n",
    "        ]\n",
    "    ),\n",
    ")\n",
    "# установка header value из header element\n",
    "header_value = header(Action=method_url, To=service_url)\n",
    " \n",
    "# инициализация zeep клиента\n",
    "client = zeep.Client(wsdl=wsdl_url)\n",
    " \n",
    "# ставим код страны Russia\n",
    "country_code = \"RU\"\n",
    " \n",
    "# делаем запрос в сервис\n",
    "result = client.service.CountryIntPhoneCode(\n",
    "    sCountryISOCode=country_code,\n",
    "    _soapheaders=[header_value]\n",
    ")\n",
    "# выводим результат\n",
    "print(f\"Телефонный код для страны {country_code} - {result}\")\n",
    " \n",
    "# вводим код страны США\n",
    "country_code = \"US\"\n",
    " \n",
    "# делаем запрос к сервису\n",
    "result = client.service.CountryIntPhoneCode(\n",
    "    sCountryISOCode=country_code,\n",
    "    _soapheaders=[header_value]\n",
    ")\n",
    " \n",
    "# POST\n",
    "response = client.service.CountryIntPhoneCode(\n",
    "    sCountryISOCode=country_code,\n",
    "    _soapheaders=[header_value]\n",
    ")\n",
    " \n",
    "# выводим результат\n",
    "print(f\"Телефонный код для страны {country_code} - {result}\")\n",
    "print(response)\n",
    "\n"
   ]
  }
 ],
 "metadata": {
  "kernelspec": {
   "display_name": "Python 3",
   "language": "python",
   "name": "python3"
  },
  "language_info": {
   "codemirror_mode": {
    "name": "ipython",
    "version": 3
   },
   "file_extension": ".py",
   "mimetype": "text/x-python",
   "name": "python",
   "nbconvert_exporter": "python",
   "pygments_lexer": "ipython3",
   "version": "3.10.4"
  }
 },
 "nbformat": 4,
 "nbformat_minor": 2
}
